{
 "cells": [
  {
   "cell_type": "code",
   "execution_count": 1,
   "metadata": {},
   "outputs": [
    {
     "data": {
      "text/plain": [
       "<module 'simpledrift' from '/Users/ryanmaloney/Documents/GitHub/Simplified-Drift-Modeling/simpledrift.py'>"
      ]
     },
     "execution_count": 1,
     "metadata": {},
     "output_type": "execute_result"
    }
   ],
   "source": [
    "import simpledrift as sd\n",
    "import imp\n",
    "imp.reload(sd)"
   ]
  },
  {
   "cell_type": "code",
   "execution_count": null,
   "metadata": {
    "scrolled": false
   },
   "outputs": [],
   "source": [
    "import simpledrift as sd\n",
    "import imp\n",
    "imp.reload(sd)\n",
    "import matrixmaker as mm\n",
    "imp.reload(mm)\n",
    "\n",
    "#driftmodeling(flynum, numberofbins, numberofdays, prefmean, prefvariance, envimean, envivariance, driftvariance, gain, per)\n",
    "flynum=1000\n",
    "numberofbins=100\n",
    "numberofdays=150\n",
    "prefmean=0\n",
    "\n",
    "x=0.1\n",
    "y=0\n",
    "\n",
    "#one run that has x, 2x, 3x, etc all y\n",
    "#one run that has y, 2y, 3y, etc all x\n",
    "\n",
    "prefvariance=x\n",
    "envimean=0\n",
    "envivariance=.25\n",
    "driftvariance=y\n",
    "gain=.4\n",
    "per=20\n",
    "maxsurvivalrate=1\n",
    "birthrate=40\n",
    "matureage=10\n",
    "percentbh=0.01\n",
    "\n",
    "#sd.driftmodeling(flynum, numberofbins, numberofdays, prefmean, prefvariance, envimean, envivariance, driftvariance, gain, per,maxsurvivalrate,birthrate,matureage, percentbh)\n",
    "finalpop=sd.driftmodeling(flynum, numberofbins, numberofdays, prefmean, prefvariance, envimean, envivariance, driftvariance, gain, per,maxsurvivalrate,birthrate,matureage, percentbh, True, 'figs')"
   ]
  },
  {
   "cell_type": "code",
   "execution_count": 111,
   "metadata": {
    "scrolled": false
   },
   "outputs": [
    {
     "name": "stdout",
     "output_type": "stream",
     "text": [
      "driftvariance0.1prefvariance0.5\n",
      "driftvariance0.1prefvariance2.0\n",
      "driftvariance0.30000000000000004prefvariance0.5\n",
      "driftvariance0.30000000000000004prefvariance2.0\n",
      "driftvariance0.5prefvariance0.5\n",
      "driftvariance0.5prefvariance2.0\n"
     ]
    },
    {
     "name": "stderr",
     "output_type": "stream",
     "text": [
      "[Parallel(n_jobs=-1)]: Using backend LokyBackend with 16 concurrent workers.\n",
      "[Parallel(n_jobs=-1)]: Done   2 out of   6 | elapsed:    4.3s remaining:    8.7s\n",
      "[Parallel(n_jobs=-1)]: Done   3 out of   6 | elapsed:    4.4s remaining:    4.4s\n",
      "[Parallel(n_jobs=-1)]: Done   4 out of   6 | elapsed:    4.5s remaining:    2.2s\n",
      "[Parallel(n_jobs=-1)]: Done   6 out of   6 | elapsed:    4.5s remaining:    0.0s\n",
      "[Parallel(n_jobs=-1)]: Done   6 out of   6 | elapsed:    4.5s finished\n"
     ]
    },
    {
     "name": "stdout",
     "output_type": "stream",
     "text": [
      "[2.00019780e-01 9.44214507e-02 1.10787977e-02 2.25284564e-03\n",
      " 3.69536053e-04 7.55443721e-05]\n",
      "[[-1.60933902 -2.359987   -4.50272211]\n",
      " [-6.09556113 -7.90326225 -9.49079036]]\n",
      "[[2.00019780e-01 9.44214507e-02 1.10787977e-02]\n",
      " [2.25284564e-03 3.69536053e-04 7.55443721e-05]]\n",
      "[-0.25  1.25  2.75]\n",
      "[0.  0.2 0.4 0.6]\n"
     ]
    },
    {
     "data": {
      "image/png": "[encoded data removed]",
      "text/plain": [
       "<Figure size 432x288 with 2 Axes>"
      ]
     },
     "metadata": {
      "needs_background": "light"
     },
     "output_type": "display_data"
    }
   ],
   "source": [
    "import matrixmaker as mm\n",
    "import imp\n",
    "imp.reload(sd)\n",
    "imp.reload(mm)\n",
    "\n",
    "bhlower=.5\n",
    "bhupper=2\n",
    "bhinterval=16\n",
    "driftlower=.1\n",
    "driftupper=0.5\n",
    "driftinterval=16\n",
    "\n",
    "matrix, driftvariance, prefvariance=mm.matrixmaker(bhlower, bhupper, bhinterval, driftlower, driftupper, driftinterval)\n",
    "\n",
    "#mm.matrixmaker(driftlower, driftupper, bhlower, bhupper)"
   ]
  },
  {
   "cell_type": "code",
   "execution_count": 77,
   "metadata": {},
   "outputs": [
    {
     "name": "stdout",
     "output_type": "stream",
     "text": [
      "[[-1.60933902 -2.359987   -1.60933902]\n",
      " [-6.09556113 -4.50272211 -6.09556113]]\n",
      "[[0.28469688 0.86781411 0.86318682]\n",
      " [0.93563012 0.10003099 0.29595647]]\n",
      "[0.1        0.23333333 0.36666667 0.5       ]\n",
      "[0.5  1.25 2.  ]\n"
     ]
    }
   ],
   "source": [
    "import numpy as np\n",
    "import matplotlib.pyplot as plt\n",
    "\n",
    "matrixlog=np.log(matrix)\n",
    "print(matrixlog)\n",
    "\n",
    "\n",
    "matrixlog=np.random.rand(2,3)\n",
    "print(matrixlog)\n",
    "# matrixlog=matrixlog[0,:,:]\n",
    "\n",
    "\n",
    "print(driftvariance)\n",
    "print(prefvariance)"
   ]
  },
  {
   "cell_type": "code",
   "execution_count": 89,
   "metadata": {},
   "outputs": [
    {
     "name": "stdout",
     "output_type": "stream",
     "text": [
      "[[-1.60933902 -2.359987   -1.60933902]\n",
      " [-6.09556113 -4.50272211 -6.09556113]]\n",
      "[0.1        0.23333333 0.36666667 0.5       ]\n",
      "[0.5  1.25 2.  ]\n",
      "(3,)\n",
      "(4,)\n",
      "(2, 3)\n",
      "we got here\n",
      "(2, 3)\n"
     ]
    },
    {
     "data": {
      "text/plain": [
       "Text(0.5, 1.0, 'Log of Final Population')"
      ]
     },
     "execution_count": 89,
     "metadata": {},
     "output_type": "execute_result"
    },
    {
     "data": {
      "image/png": "[encoded data removed]",
      "text/plain": [
       "<Figure size 432x288 with 1 Axes>"
      ]
     },
     "metadata": {
      "needs_background": "light"
     },
     "output_type": "display_data"
    }
   ],
   "source": [
    "import numpy as np\n",
    "import matplotlib.pyplot as plt\n",
    "\n",
    "matrixlog=np.log(matrix)\n",
    "matrixlog=np.squeeze(matrixlog)\n",
    "# matrixlog=np.random.rand(2,3)\n",
    "matrixlog=np.zeros((2,3))\n",
    "matrixlog[:,:]=np.log(matrix)\n",
    "\n",
    "\n",
    "print(matrixlog)\n",
    "print(driftvariance)\n",
    "print(prefvariance)\n",
    "\n",
    "fig,ax=plt.subplots()\n",
    "\n",
    "# c=ax.pcolormesh(test, cmap='hot')\n",
    "\n",
    "prefvariance=np.linspace(bhlower, bhupper, bhinterval+1)\n",
    "driftvariance=np.linspace(driftlower, driftupper, driftinterval+1)\n",
    "print(prefvariance.shape)\n",
    "print(driftvariance.shape)\n",
    "print(matrixlog.shape)\n",
    "# print(matrix)\n",
    "c=ax.pcolormesh(driftvariance, prefvariance, matrixlog, shading='flat', cmap='RdBu',  vmin=-20, vmax=20)\n",
    "print('we got here')\n",
    "print(matrixlog.shape)\n",
    "ax.set_xlabel('Bet Hedging')\n",
    "ax.set_ylabel('Drift')\n",
    "# fig.colorbar(c, ax=ax)\n",
    "ax.set_title('Log of Final Population')\n",
    "# plt.show()\n"
   ]
  },
  {
   "cell_type": "code",
   "execution_count": null,
   "metadata": {},
   "outputs": [],
   "source": [
    "from matplotlib.colors import LogNorm\n",
    "\n",
    "N = 3\n",
    "X, Y = np.meshgrid(np.linspace(-3, 3, N), np.linspace(-2, 2, N))\n",
    "\n",
    "# A low hump with a spike coming out.\n",
    "# Needs to have z/colour axis on a log scale so we see both hump and spike.\n",
    "# linear scale only shows the spike.\n",
    "Z1 = np.exp(-X**2 - Y**2)\n",
    "Z2 = np.exp(-(X * 10)**2 - (Y * 10)**2)\n",
    "Z = Z1 + 50 * Z2\n",
    "\n",
    "fig, (ax0, ax1) = plt.subplots(2, 1)\n",
    "\n",
    "c = ax0.pcolormesh(X, Y, Z,\n",
    "               norm=LogNorm(vmin=Z.min(), vmax=Z.max()), cmap='PuBu_r')\n",
    "fig.colorbar(c, ax=ax0)\n",
    "\n",
    "c = ax1.pcolor(X, Y, Z, cmap='PuBu_r')\n",
    "fig.colorbar(c, ax=ax1)\n",
    "\n",
    "plt.show()\n",
    "print(X)\n",
    "print(Y)\n",
    "print(Z)"
   ]
  },
  {
   "cell_type": "code",
   "execution_count": null,
   "metadata": {},
   "outputs": [],
   "source": [
    "import matplotlib.pyplot as plt\n",
    "plt.plot(matrix)"
   ]
  },
  {
   "cell_type": "code",
   "execution_count": null,
   "metadata": {
    "scrolled": false
   },
   "outputs": [],
   "source": [
    "import matrixmaker as mm\n",
    "import imp\n",
    "imp.reload(sd)\n",
    "imp.reload(mm)\n",
    "\n",
    "bhlower=0\n",
    "bhupper=3\n",
    "driftlower=0\n",
    "driftupper=0.5\n",
    "matrix=mm.matrixmaker(bhlower, bhupper, driftlower, driftupper)"
   ]
  },
  {
   "cell_type": "code",
   "execution_count": null,
   "metadata": {},
   "outputs": [],
   "source": [
    "import numpy as np\n",
    "import matplotlib.pyplot as plt\n",
    "\n",
    "simplematrix=np.random.rand(16,16)\n",
    "\n",
    "fig,ax=plt.subplots()\n",
    "c=ax.pcolor(simplematrix, cmap='hot')\n",
    "ax.set_xlabel('Bet Hedging')\n",
    "ax.set_ylabel('Drift')\n",
    "\n",
    "fig.colorbar(c)\n",
    "plt.show()\n"
   ]
  },
  {
   "cell_type": "code",
   "execution_count": null,
   "metadata": {},
   "outputs": [],
   "source": [
    ">>> from math import sqrt\n",
    ">>> from joblib import Parallel, delayed\n",
    ">>> x=Parallel(n_jobs=2)(delayed(sqrt)(i ** 2) for i in range(10))\n",
    "[0.0, 1.0, 2.0, 3.0, 4.0, 5.0, 6.0, 7.0, 8.0, 9.0]"
   ]
  },
  {
   "cell_type": "code",
   "execution_count": null,
   "metadata": {},
   "outputs": [],
   "source": [
    "x='helllo'"
   ]
  },
  {
   "cell_type": "code",
   "execution_count": null,
   "metadata": {},
   "outputs": [],
   "source": [
    "x"
   ]
  },
  {
   "cell_type": "code",
   "execution_count": null,
   "metadata": {},
   "outputs": [],
   "source": [
    "x=='hello'"
   ]
  },
  {
   "cell_type": "code",
   "execution_count": null,
   "metadata": {},
   "outputs": [],
   "source": [
    "x=='aasdf'"
   ]
  },
  {
   "cell_type": "code",
   "execution_count": 41,
   "metadata": {},
   "outputs": [
    {
     "data": {
      "text/plain": [
       "array([[ 0.,  1.,  2.,  3.,  4.],\n",
       "       [10., 11., 12., 13., 14.]])"
      ]
     },
     "execution_count": 41,
     "metadata": {},
     "output_type": "execute_result"
    }
   ],
   "source": [
    "import numpy as np\n",
    "import math\n",
    "\n",
    "numcolumns=5\n",
    "numrows=2\n",
    "z=np.zeros(numcolumns*numrows)\n",
    "for n in range(numcolumns*numrows):\n",
    "    \n",
    "#     print('trial', n+1)\n",
    "#     print('row dependent value')\n",
    "#     print(math.floor(n/numcolumns))\n",
    "#     print('row dependent value')\n",
    "#     print(n%numcolumns)\n",
    "    z[n]=math.floor(n/numcolumns)*10+n%numcolumns\n",
    "    \n",
    "z.reshape((numrows,numcolumns))"
   ]
  },
  {
   "cell_type": "code",
   "execution_count": null,
   "metadata": {},
   "outputs": [],
   "source": []
  }
 ],
 "metadata": {
  "kernelspec": {
   "display_name": "Python 3",
   "language": "python",
   "name": "python3"
  },
  "language_info": {
   "codemirror_mode": {
    "name": "ipython",
    "version": 3
   },
   "file_extension": ".py",
   "mimetype": "text/x-python",
   "name": "python",
   "nbconvert_exporter": "python",
   "pygments_lexer": "ipython3",
   "version": "3.7.4"
  }
 },
 "nbformat": 4,
 "nbformat_minor": 4
}
