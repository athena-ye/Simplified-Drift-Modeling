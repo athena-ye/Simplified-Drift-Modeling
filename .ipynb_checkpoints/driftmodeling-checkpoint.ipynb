{
 "cells": [
  {
   "cell_type": "code",
   "execution_count": 72,
   "metadata": {},
   "outputs": [],
   "source": [
    "import numpy as np\n",
    "import matplotlib.pyplot as plt\n",
    "import random as rand\n",
    "from scipy.stats import norm as stat\n",
    "import time\n",
    "\n",
    "def driftmodeling(mean, variance, envimean, envivariance):\n",
    "    prefmatrix=np.zeros((100))\n",
    "    for x in range(100): # A gaussian of fly preferance with center around 0\n",
    "        pref=np.random.normal(mean, variance)\n",
    "        prefmatrix[x]=pref\n",
    "\n",
    "    envimatrix=np.zeros((100))\n",
    "    for y in range(100): # A gaussian of environment with center around 0\n",
    "        envi=np.random.normal(envimean, envivariance)\n",
    "        envimatrix[y]=envi\n",
    "\n",
    "    survivalmatrix=np.zeros((100))\n",
    "    for t in range(100): #Multiplying the preference to the environment\n",
    "        survival=prefmatrix[t]*envimatrix[t]\n",
    "        survivalmatrix[t]=survival\n",
    "    print(survivalmatrix)"
   ]
  },
  {
   "cell_type": "code",
   "execution_count": 73,
   "metadata": {},
   "outputs": [
    {
     "name": "stdout",
     "output_type": "stream",
     "text": [
      "[-2.28716255e-01  2.35502106e-01 -2.50842411e-01  6.37909965e-02\n",
      " -9.82059967e-02 -2.86381018e-01 -4.81403606e-02 -7.27507199e-02\n",
      " -3.62228926e-02  4.08056263e-03  3.72294365e-01  4.25169793e-02\n",
      " -2.74507485e-02  2.54161055e-02 -1.97984653e-01  2.64911899e-02\n",
      "  2.63462157e-02 -3.30834561e-02 -7.22698441e-02  1.16574898e-01\n",
      "  9.02446992e-03  1.32677571e+00 -5.22675168e-03  3.11399133e-03\n",
      "  2.98719196e-01  1.36832366e-01  2.76306900e-01  1.29340243e-01\n",
      " -1.20475633e-01  1.38918754e-01  1.40087219e-01 -2.69316553e-01\n",
      "  1.19624161e-01 -3.61564820e-02 -8.64125599e-02 -1.88932049e-01\n",
      "  2.04490768e-01  2.79073531e-01 -6.24486308e-02  1.05912476e-02\n",
      " -8.15735990e-02 -1.28035989e-02  3.50921647e-02 -3.00744832e-02\n",
      "  1.59084787e-01 -2.41003137e-01  1.20158721e-01  5.29312853e-02\n",
      " -2.77045973e-02  4.83080518e-02 -4.69869429e-03 -3.12179161e-02\n",
      " -1.28400211e-01 -6.24779992e-02 -1.34934781e-02 -8.49927477e-01\n",
      "  1.26855917e-02 -4.51692504e-02 -6.88737727e-02  2.02680003e-02\n",
      " -9.72205623e-02 -5.19300645e-02  4.93767382e-02 -2.85096136e-01\n",
      "  1.03922810e-02  2.65185586e-01 -4.64108863e-04  2.48360609e-02\n",
      " -1.74979546e-01 -2.69776977e-01  8.55340455e-02  1.73576072e-03\n",
      "  6.55649210e-04 -3.46811101e-01  3.21812098e-02 -1.73538640e-02\n",
      " -5.97039892e-02  3.42141012e-02  7.57772971e-02 -8.21519641e-02\n",
      " -2.91405235e-02 -5.82353164e-02 -9.47514459e-02  2.17662878e-01\n",
      " -2.70025891e-02 -7.42443768e-03 -3.08445449e-01 -7.71666160e-02\n",
      "  1.37125505e-01 -1.64752142e-02  7.80849196e-02 -7.60937327e-02\n",
      "  5.96051190e-02  1.57295343e-03 -6.93542234e-03 -1.16521644e-02\n",
      "  1.14174172e-01 -1.76296853e-01 -2.94829046e-02  5.20924713e-02]\n"
     ]
    }
   ],
   "source": [
    "driftmodeling(0, 0.33, 0, 0.5)"
   ]
  },
  {
   "cell_type": "code",
   "execution_count": null,
   "metadata": {},
   "outputs": [],
   "source": []
  }
 ],
 "metadata": {
  "kernelspec": {
   "display_name": "Python 3",
   "language": "python",
   "name": "python3"
  },
  "language_info": {
   "codemirror_mode": {
    "name": "ipython",
    "version": 3
   },
   "file_extension": ".py",
   "mimetype": "text/x-python",
   "name": "python",
   "nbconvert_exporter": "python",
   "pygments_lexer": "ipython3",
   "version": "3.7.6"
  }
 },
 "nbformat": 4,
 "nbformat_minor": 4
}
