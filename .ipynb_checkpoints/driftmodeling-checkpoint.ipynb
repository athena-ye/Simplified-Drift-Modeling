{
 "cells": [
  {
   "cell_type": "code",
   "execution_count": 26,
   "metadata": {},
   "outputs": [
    {
     "data": {
      "text/plain": [
       "<module 'simpledrift' from '/Users/ryanmaloney/Documents/GitHub/Simplified-Drift-Modeling/simpledrift.py'>"
      ]
     },
     "execution_count": 26,
     "metadata": {},
     "output_type": "execute_result"
    }
   ],
   "source": [
    "import simpledrift as sd\n",
    "import imp\n",
    "imp.reload(sd)"
   ]
  },
  {
   "cell_type": "code",
   "execution_count": 35,
   "metadata": {
    "scrolled": false
   },
   "outputs": [
    {
     "ename": "TypeError",
     "evalue": "driftmodeling() missing 2 required positional arguments: 'deathrate' and 'birthrate'",
     "output_type": "error",
     "traceback": [
      "\u001b[0;31m---------------------------------------------------------------------------\u001b[0m",
      "\u001b[0;31mTypeError\u001b[0m                                 Traceback (most recent call last)",
      "\u001b[0;32m<ipython-input-35-bf5f62f649f5>\u001b[0m in \u001b[0;36m<module>\u001b[0;34m\u001b[0m\n\u001b[1;32m     15\u001b[0m \u001b[0mper\u001b[0m\u001b[0;34m=\u001b[0m\u001b[0;36m20\u001b[0m\u001b[0;34m\u001b[0m\u001b[0;34m\u001b[0m\u001b[0m\n\u001b[1;32m     16\u001b[0m \u001b[0mdeathrate\u001b[0m\u001b[0;34m=\u001b[0m\u001b[0;36m.95\u001b[0m\u001b[0;34m\u001b[0m\u001b[0;34m\u001b[0m\u001b[0m\n\u001b[0;32m---> 17\u001b[0;31m \u001b[0msd\u001b[0m\u001b[0;34m.\u001b[0m\u001b[0mdriftmodeling\u001b[0m\u001b[0;34m(\u001b[0m\u001b[0mflynum\u001b[0m\u001b[0;34m,\u001b[0m \u001b[0mnumberofbins\u001b[0m\u001b[0;34m,\u001b[0m \u001b[0mnumberofdays\u001b[0m\u001b[0;34m,\u001b[0m \u001b[0mprefmean\u001b[0m\u001b[0;34m,\u001b[0m \u001b[0mprefvariance\u001b[0m\u001b[0;34m,\u001b[0m \u001b[0menvimean\u001b[0m\u001b[0;34m,\u001b[0m \u001b[0menvivariance\u001b[0m\u001b[0;34m,\u001b[0m \u001b[0mdriftvariance\u001b[0m\u001b[0;34m,\u001b[0m \u001b[0mgain\u001b[0m\u001b[0;34m,\u001b[0m \u001b[0mper\u001b[0m\u001b[0;34m)\u001b[0m\u001b[0;34m\u001b[0m\u001b[0;34m\u001b[0m\u001b[0m\n\u001b[0m",
      "\u001b[0;31mTypeError\u001b[0m: driftmodeling() missing 2 required positional arguments: 'deathrate' and 'birthrate'"
     ]
    }
   ],
   "source": [
    "import simpledrift as sd\n",
    "import imp\n",
    "imp.reload(sd)\n",
    "\n",
    "#driftmodeling(flynum, numberofbins, numberofdays, prefmean, prefvariance, envimean, envivariance, driftvariance, gain, per)\n",
    "flynum=1000\n",
    "numberofbins=100\n",
    "numberofdays=30\n",
    "prefmean=0\n",
    "prefvariance=10\n",
    "envimean=0\n",
    "envivariance= .1\n",
    "driftvariance=.001\n",
    "gain=.4\n",
    "per=20\n",
    "deathrate=.95\n",
    "birthrate=1.05\n",
    "sd.driftmodeling(flynum, numberofbins, numberofdays, prefmean, prefvariance, envimean, envivariance, driftvariance, gain, per,deathrate,birthrate)"
   ]
  },
  {
   "cell_type": "code",
   "execution_count": null,
   "metadata": {},
   "outputs": [],
   "source": []
  }
 ],
 "metadata": {
  "kernelspec": {
   "display_name": "Python 3",
   "language": "python",
   "name": "python3"
  },
  "language_info": {
   "codemirror_mode": {
    "name": "ipython",
    "version": 3
   },
   "file_extension": ".py",
   "mimetype": "text/x-python",
   "name": "python",
   "nbconvert_exporter": "python",
   "pygments_lexer": "ipython3",
   "version": "3.7.4"
  }
 },
 "nbformat": 4,
 "nbformat_minor": 4
}
