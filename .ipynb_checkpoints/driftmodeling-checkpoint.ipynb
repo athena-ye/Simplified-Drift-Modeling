{
 "cells": [
  {
   "cell_type": "code",
   "execution_count": 74,
   "metadata": {},
   "outputs": [],
   "source": [
    "import numpy as np\n",
    "\n",
    "def driftmodeling(mean, variance, envimean, envivariance):\n",
    "    prefmatrix=np.zeros((100))\n",
    "    for x in range(100): # A gaussian of fly preferance with center around 0\n",
    "        pref=np.random.normal(mean, variance)\n",
    "        prefmatrix[x]=pref\n",
    "\n",
    "    envimatrix=np.zeros((100))\n",
    "    for y in range(100): # A gaussian of environment with center around 0\n",
    "        envi=np.random.normal(envimean, envivariance)\n",
    "        envimatrix[y]=envi\n",
    "\n",
    "    survivalmatrix=np.zeros((100))\n",
    "    for t in range(100): #Multiplying the preference to the environment\n",
    "        survival=prefmatrix[t]*envimatrix[t]\n",
    "        survivalmatrix[t]=survival\n",
    "    print(survivalmatrix)"
   ]
  },
  {
   "cell_type": "code",
   "execution_count": 75,
   "metadata": {},
   "outputs": [
    {
     "name": "stdout",
     "output_type": "stream",
     "text": [
      "[-1.84101561e-02  1.60803899e-03 -1.56726759e-01 -1.90569041e-01\n",
      "  3.60434420e-02 -1.39664617e-02 -2.92400008e-02 -6.68248712e-04\n",
      " -9.72972250e-02 -6.30599402e-02  1.57628113e-01 -1.01153463e-01\n",
      "  4.55172890e-02 -5.40452513e-02 -1.27452200e-02 -5.64815394e-04\n",
      " -9.58121441e-02 -1.56542233e-01  1.12802361e-02  5.40066054e-02\n",
      " -4.82839021e-03 -7.69230452e-01  1.93097701e-01 -6.96864089e-02\n",
      "  6.23382264e-02  1.21795219e-02 -1.18038657e-01 -1.17268019e-01\n",
      " -3.36280006e-01  6.72126484e-02 -1.71934943e-02 -1.33301644e-02\n",
      " -1.83093825e-01  3.70725676e-01  2.86848944e-02  1.50229147e-01\n",
      "  9.91229623e-02  5.28184770e-01 -2.11199390e-01 -1.36798548e-02\n",
      " -1.41612271e-01 -6.19857608e-03 -5.19076680e-02 -3.12037762e-02\n",
      " -1.40038958e-04  1.70996141e-03 -6.05589981e-02 -7.92313261e-02\n",
      " -2.01743931e-02 -1.02305335e-02 -8.85614861e-03 -1.70761377e-02\n",
      " -1.30623260e-01  5.79344046e-02 -1.00573691e-01  1.13116012e-02\n",
      " -2.67700191e-03 -1.11609457e-02 -5.63802544e-03  1.20611668e-01\n",
      " -4.19366092e-02  2.64376835e-02 -9.98712752e-02  1.98451927e-01\n",
      "  3.09800630e-03 -1.86402854e-02 -2.67756127e-02  2.98522372e-02\n",
      "  1.52933535e-01  1.56722222e-02 -2.82753248e-02  4.03335521e-02\n",
      "  1.22973027e-01 -4.58752033e-04  1.33680443e-02 -1.09479343e-02\n",
      "  5.21662610e-03 -5.53555528e-03 -9.22035255e-02 -2.35161114e-01\n",
      "  1.03316582e-01 -2.46161338e-01  1.52581134e-03  3.27621320e-01\n",
      " -5.36565365e-02 -6.16434068e-02  1.59542992e-02 -1.73972090e-01\n",
      " -7.18910114e-03 -2.05384109e-04 -1.99360556e-01 -1.89216649e-02\n",
      "  6.02858760e-02  2.71008328e-03 -3.05611146e-02  1.01742872e-01\n",
      " -5.07181833e-03 -6.91477683e-02 -8.58403316e-02 -1.71219828e-01]\n"
     ]
    }
   ],
   "source": [
    "driftmodeling(0, 0.33, 0, 0.5)"
   ]
  },
  {
   "cell_type": "code",
   "execution_count": null,
   "metadata": {},
   "outputs": [],
   "source": []
  }
 ],
 "metadata": {
  "kernelspec": {
   "display_name": "Python 3",
   "language": "python",
   "name": "python3"
  },
  "language_info": {
   "codemirror_mode": {
    "name": "ipython",
    "version": 3
   },
   "file_extension": ".py",
   "mimetype": "text/x-python",
   "name": "python",
   "nbconvert_exporter": "python",
   "pygments_lexer": "ipython3",
   "version": "3.7.6"
  }
 },
 "nbformat": 4,
 "nbformat_minor": 4
}
