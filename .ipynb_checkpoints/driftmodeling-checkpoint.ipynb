{
 "cells": [
  {
   "cell_type": "code",
   "execution_count": null,
   "metadata": {},
   "outputs": [],
   "source": [
    "import simpledrift as sd\n",
    "import imp\n",
    "imp.reload(sd)"
   ]
  },
  {
   "cell_type": "code",
   "execution_count": null,
   "metadata": {
    "scrolled": false
   },
   "outputs": [],
   "source": [
    "import simpledrift as sd\n",
    "import imp\n",
    "imp.reload(sd)\n",
    "import matrixmaker as mm\n",
    "imp.reload(mm)\n",
    "\n",
    "flynum=1\n",
    "numberofbins=100\n",
    "numberofdays=100\n",
    "prefmean=0\n",
    "prefvariance=0\n",
    "envimean=0\n",
    "envivariance=.25\n",
    "driftvariance=.1\n",
    "adaptivetracking=0\n",
    "gain=.4\n",
    "per=40\n",
    "maxsurvivalrate=.95\n",
    "birthrate=40\n",
    "matureage=10\n",
    "percentbh=0.01\n",
    "\n",
    "finalpop=sd.driftmodeling(flynum, numberofbins, numberofdays, prefmean, prefvariance, envimean, envivariance, driftvariance, adaptivetracking, gain, per,maxsurvivalrate,birthrate,matureage, percentbh, True, 'figs')"
   ]
  },
  {
   "cell_type": "code",
   "execution_count": null,
   "metadata": {},
   "outputs": [],
   "source": [
    "import simpledrift as sd\n",
    "import imp\n",
    "imp.reload(sd)\n",
    "import matrixmaker as mm\n",
    "imp.reload(mm)\n",
    "\n",
    "#driftmodeling(flynum, numberofbins, numberofdays, prefmean, prefvariance, envimean, envivariance, driftvariance, gain, per)\n",
    "flynum=1\n",
    "numberofbins=100\n",
    "numberofdays=200\n",
    "prefmean=0\n",
    "\n",
    "#one run that has x, 2x, 3x, etc all y\n",
    "#one run that has y, 2y, 3y, etc all x\n",
    "\n",
    "prefvariance=.2\n",
    "envimean=.3\n",
    "envivariance=.1\n",
    "driftvariance=.001\n",
    "adaptivetracking=0\n",
    "gain=.1\n",
    "per=40\n",
    "maxsurvivalrate=.95\n",
    "birthrate=5\n",
    "matureage=10\n",
    "percentbh=0.01\n",
    "\n",
    "#sd.driftmodeling(flynum, numberofbins, numberofdays, prefmean, prefvariance, envimean, envivariance, driftvariance, gain, per,maxsurvivalrate,birthrate,matureage, percentbh)\n",
    "finalpop=sd.driftmodeling(flynum, numberofbins, numberofdays, prefmean, prefvariance, envimean, envivariance, driftvariance, adaptivetracking, gain, per,maxsurvivalrate,birthrate,matureage, percentbh, True, 'figs')"
   ]
  },
  {
   "cell_type": "code",
   "execution_count": 5,
   "metadata": {
    "scrolled": false
   },
   "outputs": [
    {
     "name": "stderr",
     "output_type": "stream",
     "text": [
      "[Parallel(n_jobs=-1)]: Using backend LokyBackend with 16 concurrent workers.\n",
      "[Parallel(n_jobs=-1)]: Done   3 out of  16 | elapsed:    1.7s remaining:    7.3s\n",
      "[Parallel(n_jobs=-1)]: Done   5 out of  16 | elapsed:   10.9s remaining:   23.9s\n",
      "[Parallel(n_jobs=-1)]: Done   7 out of  16 | elapsed:   11.1s remaining:   14.2s\n",
      "[Parallel(n_jobs=-1)]: Done   9 out of  16 | elapsed:   11.1s remaining:    8.6s\n",
      "[Parallel(n_jobs=-1)]: Done  11 out of  16 | elapsed:   11.1s remaining:    5.1s\n",
      "[Parallel(n_jobs=-1)]: Done  13 out of  16 | elapsed:   11.1s remaining:    2.6s\n",
      "[Parallel(n_jobs=-1)]: Done  16 out of  16 | elapsed:   11.2s finished\n"
     ]
    },
    {
     "name": "stdout",
     "output_type": "stream",
     "text": [
      "[3.49945706e-08 9.77085973e-04 3.19782617e-05 6.18279991e-06\n",
      " 3.23681432e+01 2.03377304e+01 1.42093820e+00 3.90829105e-01\n",
      " 9.67421257e-02 3.40184529e-02 4.40811341e-03 1.63605002e-03\n",
      " 1.67762719e-06 6.76220651e-07 1.51478633e-07 7.49340008e-08]\n",
      "[[-17.16807291   3.4771747   -2.33570634 -13.29813015]\n",
      " [ -6.93093591   3.0124778   -3.38085217 -14.20674641]\n",
      " [-10.35045421   0.35131736  -5.42430848 -15.70282126]\n",
      " [-11.99373933  -0.93948489  -6.41547047 -16.4066581 ]]\n",
      "[[3.49945706e-08 3.23681432e+01 9.67421257e-02 1.67762719e-06]\n",
      " [9.77085973e-04 2.03377304e+01 3.40184529e-02 6.76220651e-07]\n",
      " [3.19782617e-05 1.42093820e+00 4.40811341e-03 1.51478633e-07]\n",
      " [6.18279991e-06 3.90829105e-01 1.63605002e-03 7.49340008e-08]]\n",
      "[-0.13333333  0.13333333  0.4         0.66666667  0.93333333]\n",
      "[-0.05  0.05  0.15  0.25  0.35]\n",
      "figs\n"
     ]
    },
    {
     "data": {
      "image/png": "[encoded data removed]",
      "text/plain": [
       "<Figure size 432x288 with 2 Axes>"
      ]
     },
     "metadata": {
      "needs_background": "light"
     },
     "output_type": "display_data"
    }
   ],
   "source": [
    "# import matrixmaker as mm\n",
    "import simpledrift as sd\n",
    "import matrixmaker as mm\n",
    "\n",
    "\n",
    "import imp\n",
    "imp.reload(sd)\n",
    "imp.reload(mm)\n",
    "\n",
    "bhlower=0\n",
    "bhupper=2\n",
    "bhinterval=10\n",
    "driftlower=0\n",
    "driftupper=.3\n",
    "driftinterval=10\n",
    "\n",
    "matrix, driftvariance, prefvariance=mm.matrixmaker(bhlower, bhupper, bhinterval, driftlower, driftupper, driftinterval)\n",
    "# normalbirthhighdeath=matrix\n",
    "#mm.matrixmaker(driftlower, driftupper, bhlower, bhupper)"
   ]
  },
  {
   "cell_type": "code",
   "execution_count": null,
   "metadata": {
    "scrolled": true
   },
   "outputs": [],
   "source": [
    "# import matrixmaker as mm\n",
    "import simpledrift as sd\n",
    "import matrixmaker as mm\n",
    "\n",
    "\n",
    "import imp\n",
    "imp.reload(sd)\n",
    "imp.reload(mm)\n",
    "\n",
    "bhlower=0\n",
    "bhupper=1\n",
    "bhinterval=40\n",
    "driftlower=0\n",
    "driftupper=.3\n",
    "driftinterval=40\n",
    "\n",
    "matrix, driftvariance, prefvariance=mm.matrixmaker(bhlower, bhupper, bhinterval, driftlower, driftupper, driftinterval)\n",
    "\n",
    "#mm.matrixmaker(driftlower, driftupper, bhlower, bhupper)"
   ]
  },
  {
   "cell_type": "code",
   "execution_count": null,
   "metadata": {},
   "outputs": [],
   "source": [
    "np.savetxt(\"40x40.csv\", matrix, fmt='%.18e', delimiter=' ', newline='\\n', header='', footer='', comments='# ', encoding=None)"
   ]
  },
  {
   "cell_type": "code",
   "execution_count": null,
   "metadata": {},
   "outputs": [],
   "source": [
    "#highresmatrix=matrix\n",
    "# del highresmatrix\n",
    "#highdeathmatrix=matrix\n",
    "# normalmatrix=matrix\n",
    "#doubledeathdoublebirth=matrix"
   ]
  },
  {
   "cell_type": "code",
   "execution_count": null,
   "metadata": {},
   "outputs": [],
   "source": [
    "comparative=doublebirthnormaldeath/normalmatrix"
   ]
  },
  {
   "cell_type": "code",
   "execution_count": null,
   "metadata": {},
   "outputs": [],
   "source": [
    "# import math\n",
    "# bhlower=0\n",
    "# bhupper=1.5\n",
    "# bhinterval=10\n",
    "# driftlower=0\n",
    "# driftupper=8\n",
    "# driftinterval=20\n",
    "\n",
    "# numruns=bhinterval*driftinterval\n",
    "\n",
    "# # testing values are right\n",
    "# for n in range(numruns):\n",
    "#     print('driftvariance'+str(driftvariance[math.floor(n/bhinterval)])+ 'prefvariance'+ str(prefvariance[n%bhinterval]))\n",
    "\n",
    "\n",
    "# # matrix, driftvariance, prefvariance=mm.matrixmaker(bhlower, bhupper, bhinterval, driftlower, driftupper, driftinterval)\n",
    "\n",
    "# #mm.matrixmaker(driftlower, driftupper, bhlower, bhupper)"
   ]
  },
  {
   "cell_type": "code",
   "execution_count": null,
   "metadata": {},
   "outputs": [],
   "source": [
    "import numpy as np\n",
    "testn=np.arange(numruns)\n",
    "print(testn)\n",
    "testn.reshape((bhinterval, driftinterval))"
   ]
  },
  {
   "cell_type": "code",
   "execution_count": null,
   "metadata": {},
   "outputs": [],
   "source": [
    "dir()"
   ]
  },
  {
   "cell_type": "code",
   "execution_count": 1,
   "metadata": {},
   "outputs": [
    {
     "ename": "NameError",
     "evalue": "name 'doubledeathdoublebirth' is not defined",
     "output_type": "error",
     "traceback": [
      "\u001b[0;31m---------------------------------------------------------------------------\u001b[0m",
      "\u001b[0;31mNameError\u001b[0m                                 Traceback (most recent call last)",
      "\u001b[0;32m<ipython-input-1-d75ab2d5ced0>\u001b[0m in \u001b[0;36m<module>\u001b[0;34m\u001b[0m\n\u001b[1;32m      9\u001b[0m \u001b[0mdriftinterval\u001b[0m\u001b[0;34m=\u001b[0m\u001b[0;36m20\u001b[0m\u001b[0;34m\u001b[0m\u001b[0;34m\u001b[0m\u001b[0m\n\u001b[1;32m     10\u001b[0m \u001b[0;34m\u001b[0m\u001b[0m\n\u001b[0;32m---> 11\u001b[0;31m \u001b[0mcomparative\u001b[0m\u001b[0;34m=\u001b[0m\u001b[0mdoubledeathdoublebirth\u001b[0m\u001b[0;34m/\u001b[0m\u001b[0mhighbirthnormaldeath\u001b[0m\u001b[0;34m\u001b[0m\u001b[0;34m\u001b[0m\u001b[0m\n\u001b[0m\u001b[1;32m     12\u001b[0m \u001b[0mmatrixlog\u001b[0m\u001b[0;34m=\u001b[0m\u001b[0mnp\u001b[0m\u001b[0;34m.\u001b[0m\u001b[0mlog\u001b[0m\u001b[0;34m(\u001b[0m\u001b[0mcomparative\u001b[0m\u001b[0;34m)\u001b[0m\u001b[0;34m\u001b[0m\u001b[0;34m\u001b[0m\u001b[0m\n\u001b[1;32m     13\u001b[0m \u001b[0mbhmargin\u001b[0m\u001b[0;34m=\u001b[0m\u001b[0;34m(\u001b[0m\u001b[0mbhupper\u001b[0m\u001b[0;34m-\u001b[0m\u001b[0mbhlower\u001b[0m\u001b[0;34m)\u001b[0m\u001b[0;34m/\u001b[0m\u001b[0;34m(\u001b[0m\u001b[0mbhinterval\u001b[0m\u001b[0;34m-\u001b[0m\u001b[0;36m1\u001b[0m\u001b[0;34m)\u001b[0m\u001b[0;34m/\u001b[0m\u001b[0;36m2\u001b[0m\u001b[0;34m\u001b[0m\u001b[0;34m\u001b[0m\u001b[0m\n",
      "\u001b[0;31mNameError\u001b[0m: name 'doubledeathdoublebirth' is not defined"
     ]
    }
   ],
   "source": [
    "import numpy as np\n",
    "import matplotlib.pyplot as plt\n",
    "\n",
    "bhlower=0\n",
    "bhupper=.8\n",
    "bhinterval=20\n",
    "driftlower=0\n",
    "driftupper=.3\n",
    "driftinterval=20\n",
    "\n",
    "comparative=doubledeathdoublebirth/highbirthnormaldeath\n",
    "matrixlog=np.log(comparative)\n",
    "bhmargin=(bhupper-bhlower)/(bhinterval-1)/2\n",
    "driftmargin=(driftupper-driftlower)/(driftinterval-1)/2\n",
    "prefvariancemesh=np.linspace(bhlower-bhmargin, bhupper+bhmargin, bhinterval+1)\n",
    "driftvariancemesh=np.linspace(driftlower-driftmargin, driftupper+driftmargin, driftinterval+1)\n",
    "print(prefvariancemesh)\n",
    "print(driftvariancemesh)\n",
    "\n",
    "# driftvariancegrid2, prefvariancegrid2= np.meshgrid(driftvariance, prefvariance)\n",
    "\n",
    "# print(matrix)\n",
    "\n",
    "fig,ax=plt.subplots()\n",
    "print(max(-np.min(matrixlog),np.max(matrixlog)))\n",
    "scale=max(-np.min(matrixlog),np.max(matrixlog))/2\n",
    "c=ax.pcolormesh(driftvariancemesh, prefvariancemesh, matrixlog, shading='flat', cmap='RdBu')\n",
    "ax.set_xlabel('Drift')\n",
    "ax.set_ylabel('Bet-Hedging')\n",
    "fig.colorbar(c, ax=ax)\n",
    "ax.set_title('Ratio of high death high birth to high birth normal death final Populations (Log)')\n",
    "plt.show()"
   ]
  },
  {
   "cell_type": "code",
   "execution_count": null,
   "metadata": {},
   "outputs": [],
   "source": [
    "    bhmargin=(bhupper-bhlower)/(bhinterval-1)/2\n",
    "    driftmargin=(driftupper-driftlower)/(driftinterval-1)/2\n",
    "    prefvariancemesh=np.linspace(bhlower-bhmargin, bhupper+bhmargin, bhinterval+1)\n",
    "    driftvariancemesh=np.linspace(driftlower-driftmargin, driftupper+driftmargin, driftinterval+1)\n",
    "    print(prefvariancemesh)\n",
    "    print(driftvariancemesh)\n",
    "\n",
    "# driftvariancegrid2, prefvariancegrid2= np.meshgrid(driftvariance, prefvariance)\n",
    "\n",
    "    # print(matrix)\n",
    "\n",
    "    fig,ax=plt.subplots()\n",
    "\n",
    "    c=ax.pcolormesh(driftvariancemesh, prefvariancemesh, matrixlog, shading='flat', cmap='RdBu',  vmin=-20, vmax=20)\n",
    "    ax.set_xlabel('Drift')\n",
    "    ax.set_ylabel('Bet-Hedging')\n",
    "    fig.colorbar(c, ax=ax)\n",
    "    ax.set_title('Log of Final Population')\n",
    "    plt.show()"
   ]
  },
  {
   "cell_type": "code",
   "execution_count": null,
   "metadata": {},
   "outputs": [],
   "source": [
    "for i in range(400):\n",
    "    plt.plot()"
   ]
  },
  {
   "cell_type": "code",
   "execution_count": null,
   "metadata": {},
   "outputs": [],
   "source": [
    "from matplotlib.colors import LogNorm\n",
    "\n",
    "N = 3\n",
    "X, Y = np.meshgrid(np.linspace(-3, 3, N), np.linspace(-2, 2, N))\n",
    "\n",
    "# A low hump with a spike coming out.\n",
    "# Needs to have z/colour axis on a log scale so we see both hump and spike.\n",
    "# linear scale only shows the spike.\n",
    "Z1 = np.exp(-X**2 - Y**2)\n",
    "Z2 = np.exp(-(X * 10)**2 - (Y * 10)**2)\n",
    "Z = Z1 + 50 * Z2\n",
    "\n",
    "fig, (ax0, ax1) = plt.subplots(2, 1)\n",
    "\n",
    "c = ax0.pcolormesh(X, Y, Z,\n",
    "               norm=LogNorm(vmin=Z.min(), vmax=Z.max()), cmap='PuBu_r')\n",
    "fig.colorbar(c, ax=ax0)\n",
    "\n",
    "c = ax1.pcolor(X, Y, Z, cmap='PuBu_r')\n",
    "fig.colorbar(c, ax=ax1)\n",
    "\n",
    "plt.show()\n",
    "print(X)\n",
    "print(Y)\n",
    "print(Z)"
   ]
  },
  {
   "cell_type": "code",
   "execution_count": null,
   "metadata": {},
   "outputs": [],
   "source": [
    "import matplotlib.pyplot as plt\n",
    "plt.plot(matrix)"
   ]
  },
  {
   "cell_type": "code",
   "execution_count": null,
   "metadata": {
    "scrolled": false
   },
   "outputs": [],
   "source": [
    "import matrixmaker as mm\n",
    "import imp\n",
    "imp.reload(sd)\n",
    "imp.reload(mm)\n",
    "\n",
    "bhlower=0\n",
    "bhupper=3\n",
    "driftlower=0\n",
    "driftupper=0.5\n",
    "matrix=mm.matrixmaker(bhlower, bhupper, driftlower, driftupper)"
   ]
  },
  {
   "cell_type": "code",
   "execution_count": null,
   "metadata": {},
   "outputs": [],
   "source": [
    "import numpy as np\n",
    "import matplotlib.pyplot as plt\n",
    "\n",
    "simplematrix=np.random.rand(16,16)\n",
    "\n",
    "fig,ax=plt.subplots()\n",
    "c=ax.pcolor(simplematrix, cmap='hot')\n",
    "ax.set_xlabel('Bet Hedging')\n",
    "ax.set_ylabel('Drift')\n",
    "\n",
    "fig.colorbar(c)\n",
    "plt.show()\n"
   ]
  },
  {
   "cell_type": "code",
   "execution_count": null,
   "metadata": {},
   "outputs": [],
   "source": [
    ">>> from math import sqrt\n",
    ">>> from joblib import Parallel, delayed\n",
    ">>> x=Parallel(n_jobs=2)(delayed(sqrt)(i ** 2) for i in range(10))\n",
    "[0.0, 1.0, 2.0, 3.0, 4.0, 5.0, 6.0, 7.0, 8.0, 9.0]"
   ]
  },
  {
   "cell_type": "code",
   "execution_count": null,
   "metadata": {},
   "outputs": [],
   "source": [
    "x='helllo'"
   ]
  },
  {
   "cell_type": "code",
   "execution_count": null,
   "metadata": {},
   "outputs": [],
   "source": [
    "x"
   ]
  },
  {
   "cell_type": "code",
   "execution_count": null,
   "metadata": {},
   "outputs": [],
   "source": [
    "x=='hello'"
   ]
  },
  {
   "cell_type": "code",
   "execution_count": null,
   "metadata": {},
   "outputs": [],
   "source": [
    "x=='aasdf'"
   ]
  },
  {
   "cell_type": "code",
   "execution_count": null,
   "metadata": {},
   "outputs": [],
   "source": [
    "import numpy as np\n",
    "import math\n",
    "\n",
    "numcolumns=5\n",
    "numrows=2\n",
    "z=np.zeros(numcolumns*numrows)\n",
    "for n in range(numcolumns*numrows):\n",
    "    \n",
    "#     print('trial', n+1)\n",
    "#     print('row dependent value')\n",
    "#     print(math.floor(n/numcolumns))\n",
    "#     print('row dependent value')\n",
    "#     print(n%numcolumns)\n",
    "    z[n]=math.floor(n/numcolumns)*10+n%numcolumns\n",
    "    \n",
    "z.reshape((numrows,numcolumns))"
   ]
  },
  {
   "cell_type": "code",
   "execution_count": null,
   "metadata": {},
   "outputs": [],
   "source": [
    "import scipy.stats as sci\n",
    "import numpy as np\n",
    "#blur threshold testing\n",
    "halfnumbins=50\n",
    "numbins=halfnumbins*2\n",
    "x=np.linspace(-1,1,numbins)\n",
    "for j in range(10):\n",
    "    for i in range(100):\n",
    "        threshold=pow(10,-j)-i*pow(10, -j-2)\n",
    "#         print(threshold)\n",
    "        y=sci.norm.pdf(x,x[halfnumbins],threshold)\n",
    "        r,s=np.unique(y, return_counts=True)\n",
    "        if len(r)<3:\n",
    "            print(threshold)\n",
    "            break\n",
    "            break\n",
    "\n"
   ]
  },
  {
   "cell_type": "code",
   "execution_count": null,
   "metadata": {},
   "outputs": [],
   "source": [
    "10^(-5)"
   ]
  },
  {
   "cell_type": "code",
   "execution_count": null,
   "metadata": {},
   "outputs": [],
   "source": [
    "10^2"
   ]
  },
  {
   "cell_type": "code",
   "execution_count": null,
   "metadata": {},
   "outputs": [],
   "source": []
  }
 ],
 "metadata": {
  "kernelspec": {
   "display_name": "Python 3",
   "language": "python",
   "name": "python3"
  },
  "language_info": {
   "codemirror_mode": {
    "name": "ipython",
    "version": 3
   },
   "file_extension": ".py",
   "mimetype": "text/x-python",
   "name": "python",
   "nbconvert_exporter": "python",
   "pygments_lexer": "ipython3",
   "version": "3.7.4"
  }
 },
 "nbformat": 4,
 "nbformat_minor": 4
}
