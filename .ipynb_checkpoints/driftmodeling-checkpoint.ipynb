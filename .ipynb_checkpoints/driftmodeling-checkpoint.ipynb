{
 "cells": [
  {
   "cell_type": "code",
   "execution_count": 69,
   "metadata": {},
   "outputs": [],
   "source": [
    "import numpy as np\n",
    "import matplotlib.pyplot as plt\n",
    "import random as rand\n",
    "from scipy.stats import norm as stat\n",
    "import time\n",
    "\n",
    "def driftmodeling(mean, variance):\n",
    "    prefmatrix=np.zeros((100))\n",
    "    for x in range(100): # A gaussian of fly preferance with center around 0\n",
    "        pref=np.random.normal(mean, variance)\n",
    "        prefmatrix[x]=pref\n",
    "\n",
    "    envimatrix=np.zeros((100))\n",
    "    for y in range(100): # A gaussian of environment with center around 0\n",
    "        envi=np.random.normal(mean, variance)\n",
    "        envimatrix[y]=envi\n",
    "\n",
    "    survivalmatrix=np.zeros((100))\n",
    "    for t in range(100): #Multiplying the preference to the environment\n",
    "        survival=prefmatrix[t]*envimatrix[t]\n",
    "        survivalmatrix[t]=survival\n",
    "    print(survivalmatrix)"
   ]
  },
  {
   "cell_type": "code",
   "execution_count": 70,
   "metadata": {},
   "outputs": [
    {
     "name": "stdout",
     "output_type": "stream",
     "text": [
      "[-6.22392566e-03  4.40952621e-01 -4.02101080e-02 -2.70084769e-02\n",
      " -1.15903317e-01  1.53493459e-01 -4.42460442e-02  3.10760071e-02\n",
      " -1.30312730e-01  9.77748965e-02  4.34193221e-02 -4.96200876e-01\n",
      "  2.38608410e-01 -1.63119569e-02  1.71548170e-01  6.60904040e-02\n",
      "  1.45035197e-02 -6.66559555e-04  2.21319349e-02  9.97236721e-03\n",
      "  3.96251123e-02 -1.79521747e-02 -2.71626532e-02 -2.62850305e-01\n",
      "  1.67444392e-01 -4.68106038e-03 -8.60954852e-02  1.04417595e-01\n",
      "  8.12044720e-02  2.27389194e-01 -2.55650261e-02  5.86855772e-01\n",
      "  2.27424859e-03 -5.00135400e-02 -1.75621510e-01  1.68074526e-01\n",
      "  3.50064625e-02  2.08459739e-03 -5.97301664e-02 -4.93739692e-02\n",
      " -2.08553717e-01 -3.66991747e-02  2.75272995e-01  4.03609507e-02\n",
      "  6.83542479e-02  5.61455012e-02 -1.69772761e-01 -1.60892321e-02\n",
      "  1.17161063e-02 -7.57653076e-03  6.47218194e-02 -8.46108090e-02\n",
      "  1.57614923e-02  3.13014956e-04  1.07627708e-01 -2.90377191e-02\n",
      "  1.01046649e-01 -8.87583977e-02 -8.75692520e-02 -1.68284694e-01\n",
      " -2.79863414e-02  2.60098080e-01 -3.30553798e-03 -1.98007398e-02\n",
      "  8.75513026e-02 -2.04495099e-02  5.89507785e-03 -3.34912982e-03\n",
      " -5.98048384e-03 -3.43163230e-02  7.33277507e-03  4.01121845e-03\n",
      " -4.77057838e-02  9.04608017e-02 -5.01822049e-03  1.80448393e-01\n",
      "  4.88130986e-02  9.63286664e-02 -1.93956431e-02 -1.92378207e-01\n",
      " -1.67387531e-01  8.70414070e-02  2.87561325e-02 -2.26949307e-02\n",
      " -2.25054958e-02  1.55050752e-02 -3.04809373e-02 -8.20115518e-02\n",
      "  4.53716421e-03  1.05088290e-01  1.16423457e-01  1.18792470e-02\n",
      "  1.35748001e-01  3.12610693e-03 -1.77683744e-02 -2.22121954e-04\n",
      " -1.01100094e-01 -2.72179805e-03  1.48402413e-02 -5.71566719e-03]\n"
     ]
    }
   ],
   "source": [
    "driftmodeling(0, 0.33)"
   ]
  },
  {
   "cell_type": "code",
   "execution_count": null,
   "metadata": {},
   "outputs": [],
   "source": []
  }
 ],
 "metadata": {
  "kernelspec": {
   "display_name": "Python 3",
   "language": "python",
   "name": "python3"
  },
  "language_info": {
   "codemirror_mode": {
    "name": "ipython",
    "version": 3
   },
   "file_extension": ".py",
   "mimetype": "text/x-python",
   "name": "python",
   "nbconvert_exporter": "python",
   "pygments_lexer": "ipython3",
   "version": "3.7.6"
  }
 },
 "nbformat": 4,
 "nbformat_minor": 4
}
