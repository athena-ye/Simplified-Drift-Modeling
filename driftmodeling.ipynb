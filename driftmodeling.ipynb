{
 "cells": [
  {
   "cell_type": "code",
   "execution_count": 63,
   "metadata": {},
   "outputs": [
    {
     "data": {
      "text/plain": [
       "<module 'simpledrift' from '/Users/athenaye/Documents/GitHub/Simplified-Drift-Modeling/simpledrift.py'>"
      ]
     },
     "execution_count": 63,
     "metadata": {},
     "output_type": "execute_result"
    }
   ],
   "source": [
    "import simpledrift as sd\n",
    "import imp\n",
    "imp.reload(sd)"
   ]
  },
  {
   "cell_type": "code",
   "execution_count": null,
   "metadata": {
    "scrolled": false
   },
   "outputs": [],
   "source": [
    "import simpledrift as sd\n",
    "import imp\n",
    "imp.reload(sd)\n",
    "\n",
    "#driftmodeling(flynum, numberofbins, numberofdays, prefmean, prefvariance, envimean, envivariance, driftvariance, gain, per)\n",
    "flynum=1000\n",
    "numberofbins=100\n",
    "numberofdays=150\n",
    "prefmean=[0,0,0]\n",
    "\n",
    "x=0.1\n",
    "y=0.05\n",
    "\n",
    "prefvariance=[0.1*x,.5*x,x]\n",
    "envimean=0\n",
    "envivariance=.25\n",
    "driftvariance=[y,.1*y,y]\n",
    "gain=.4\n",
    "per=20\n",
    "maxsurvivalrate=1\n",
    "birthrate=40\n",
    "matureage=10\n",
    "percentbh=0.01\n",
    "sd.driftmodeling(flynum, numberofbins, numberofdays, prefmean, prefvariance, envimean, envivariance, driftvariance, gain, per,maxsurvivalrate,birthrate,matureage, percentbh)"
   ]
  },
  {
   "cell_type": "code",
   "execution_count": null,
   "metadata": {},
   "outputs": [],
   "source": [
    "import heatmap as hm\n",
    "import imp\n",
    "imp.reload(hm)\n",
    "\n"
   ]
  }
 ],
 "metadata": {
  "kernelspec": {
   "display_name": "Python 3",
   "language": "python",
   "name": "python3"
  },
  "language_info": {
   "codemirror_mode": {
    "name": "ipython",
    "version": 3
   },
   "file_extension": ".py",
   "mimetype": "text/x-python",
   "name": "python",
   "nbconvert_exporter": "python",
   "pygments_lexer": "ipython3",
   "version": "3.7.6"
  }
 },
 "nbformat": 4,
 "nbformat_minor": 4
}
