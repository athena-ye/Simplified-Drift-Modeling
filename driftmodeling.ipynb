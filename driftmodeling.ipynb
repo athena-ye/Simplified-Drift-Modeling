{
 "cells": [
  {
   "cell_type": "code",
   "execution_count": 77,
   "metadata": {},
   "outputs": [],
   "source": [
    "import numpy as np\n",
    "\n",
    "def driftmodeling(flynum, prefmean, prefvariance, envimean, envivariance):\n",
    "    prefmatrix=np.zeros((flynum))\n",
    "    for x in range(flynum): # A gaussian of fly preferance with center around 0\n",
    "        pref=np.random.normal(prefmean, prefvariance)\n",
    "        prefmatrix[x]=pref\n",
    "\n",
    "    envimatrix=np.zeros((flynum))\n",
    "    for y in range(flynum): # A gaussian of environment with center around 0\n",
    "        envi=np.random.normal(envimean, envivariance) # Different mean and variance than the preference so we can alter accordingly\n",
    "        envimatrix[y]=envi\n",
    "\n",
    "    survivalmatrix=np.zeros((flynum))\n",
    "    for t in range(flynum): #Multiplying the preference to the environment\n",
    "        survival=prefmatrix[t]*envimatrix[t]\n",
    "        survivalmatrix[t]=survival\n",
    "    print(survivalmatrix)"
   ]
  },
  {
   "cell_type": "code",
   "execution_count": 78,
   "metadata": {},
   "outputs": [
    {
     "name": "stdout",
     "output_type": "stream",
     "text": [
      "[ 2.61638344e-01 -1.49256405e-02  6.89337536e-02  1.62742043e-02\n",
      " -1.35201221e-01  2.49729366e-02  3.15347262e-02  9.37634405e-02\n",
      " -1.49704334e-01  9.88405669e-03 -1.14803750e-01 -7.37668728e-02\n",
      " -4.40068123e-02  8.38709387e-02 -2.00021113e-01 -1.46982143e-01\n",
      " -6.47593178e-03 -1.15879902e-01  1.18187473e-01  1.69326348e-01\n",
      "  1.64105465e-01 -5.07861678e-02  1.09131035e-01 -3.93617105e-02\n",
      " -1.09269446e-02  8.02892529e-03  3.22988347e-01  1.06590347e-01\n",
      "  2.72570635e-01 -3.81407931e-01 -4.69750139e-01  5.97290609e-02\n",
      "  5.39724473e-02  2.33415062e-01  2.52510239e-04 -1.78972172e-02\n",
      "  8.36052014e-04 -6.53483567e-03 -1.03241735e-01 -3.94004309e-02\n",
      " -4.77244311e-02 -2.71675492e-02 -2.37200858e-01  1.83067471e-02\n",
      "  1.10965941e-01 -2.18581343e-01 -4.62359167e-02 -2.04197454e-02\n",
      "  6.37326688e-02 -8.97457278e-03 -1.80652924e-01  2.74248200e-01\n",
      " -2.21804014e-03 -4.47045086e-02 -6.67535014e-02  1.70901714e-02\n",
      "  2.94810925e-01 -1.71899390e-01  1.27416616e-01  1.47135398e-01\n",
      " -1.36289935e-01  7.35543200e-02  8.49029339e-04  1.26895876e-01\n",
      "  1.97220682e-01  7.58741432e-02 -1.51764040e-01  5.06338372e-02\n",
      "  4.19914103e-02 -4.42470181e-02 -3.44288124e-01 -8.67519241e-03\n",
      "  6.48323179e-02 -2.48750356e-02  6.39984054e-02  1.31459905e-01\n",
      "  3.88711547e-02 -3.69608925e-02  1.11771224e-02  5.46969293e-03\n",
      "  2.54890054e-01  2.36019918e-02 -4.23339934e-03 -1.62625972e-01\n",
      "  1.99864838e-01 -1.72873474e-01  9.19920337e-02  4.61333663e-01\n",
      "  3.22964181e-02  3.13186026e-02  6.17028646e-02  8.15567777e-02\n",
      " -2.31102069e-02 -1.92105869e-01  7.80790843e-02 -3.55508360e-02\n",
      "  5.68311321e-03  3.95934178e-01  3.31172243e-01 -1.09216775e-01]\n"
     ]
    }
   ],
   "source": [
    "driftmodeling(100, 0, 0.33, 0, 0.5)"
   ]
  },
  {
   "cell_type": "code",
   "execution_count": null,
   "metadata": {},
   "outputs": [],
   "source": []
  }
 ],
 "metadata": {
  "kernelspec": {
   "display_name": "Python 3",
   "language": "python",
   "name": "python3"
  },
  "language_info": {
   "codemirror_mode": {
    "name": "ipython",
    "version": 3
   },
   "file_extension": ".py",
   "mimetype": "text/x-python",
   "name": "python",
   "nbconvert_exporter": "python",
   "pygments_lexer": "ipython3",
   "version": "3.7.6"
  }
 },
 "nbformat": 4,
 "nbformat_minor": 4
}
