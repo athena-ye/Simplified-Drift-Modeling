{
 "cells": [
  {
   "cell_type": "code",
   "execution_count": null,
   "metadata": {},
   "outputs": [],
   "source": [
    "import simpledrift as sd\n",
    "import imp\n",
    "imp.reload(sd)"
   ]
  },
  {
   "cell_type": "code",
   "execution_count": null,
   "metadata": {
    "scrolled": false
   },
   "outputs": [],
   "source": [
    "import simpledrift as sd\n",
    "import imp\n",
    "imp.reload(sd)\n",
    "import matrixmaker as mm\n",
    "imp.reload(mm)\n",
    "\n",
    "flynum=1\n",
    "numberofbins=100\n",
    "numberofdays=100\n",
    "prefmean=0\n",
    "prefvariance=0\n",
    "envimean=0\n",
    "envivariance=.25\n",
    "driftvariance=.1\n",
    "adaptivetracking=0\n",
    "gain=.4\n",
    "per=40\n",
    "maxsurvivalrate=.95\n",
    "birthrate=40\n",
    "matureage=10\n",
    "percentbh=0.01\n",
    "\n",
    "finalpop=sd.driftmodeling(flynum, numberofbins, numberofdays, prefmean, prefvariance, envimean, envivariance, driftvariance, adaptivetracking, gain, per,maxsurvivalrate,birthrate,matureage, percentbh, True, 'figs')"
   ]
  },
  {
   "cell_type": "code",
   "execution_count": null,
   "metadata": {},
   "outputs": [],
   "source": [
    "import simpledrift as sd\n",
    "import imp\n",
    "imp.reload(sd)\n",
    "import matrixmaker as mm\n",
    "imp.reload(mm)\n",
    "\n",
    "#driftmodeling(flynum, numberofbins, numberofdays, prefmean, prefvariance, envimean, envivariance, driftvariance, gain, per)\n",
    "flynum=1\n",
    "numberofbins=100\n",
    "numberofdays=200\n",
    "prefmean=0\n",
    "\n",
    "#one run that has x, 2x, 3x, etc all y\n",
    "#one run that has y, 2y, 3y, etc all x\n",
    "\n",
    "prefvariance=.2\n",
    "envimean=.3\n",
    "envivariance=.1\n",
    "driftvariance=.001\n",
    "adaptivetracking=0\n",
    "gain=.1\n",
    "per=40\n",
    "maxsurvivalrate=.95\n",
    "birthrate=5\n",
    "matureage=10\n",
    "percentbh=0.01\n",
    "\n",
    "#sd.driftmodeling(flynum, numberofbins, numberofdays, prefmean, prefvariance, envimean, envivariance, driftvariance, gain, per,maxsurvivalrate,birthrate,matureage, percentbh)\n",
    "finalpop=sd.driftmodeling(flynum, numberofbins, numberofdays, prefmean, prefvariance, envimean, envivariance, driftvariance, adaptivetracking, gain, per,maxsurvivalrate,birthrate,matureage, percentbh, True, 'figs')"
   ]
  },
  {
   "cell_type": "code",
   "execution_count": 6,
   "metadata": {
    "scrolled": false
   },
   "outputs": [
    {
     "name": "stderr",
     "output_type": "stream",
     "text": [
      "[Parallel(n_jobs=-1)]: Using backend LokyBackend with 16 concurrent workers.\n",
      "[Parallel(n_jobs=-1)]: Done   9 tasks      | elapsed:    2.0s\n",
      "[Parallel(n_jobs=-1)]: Done  18 tasks      | elapsed:   17.2s\n",
      "[Parallel(n_jobs=-1)]: Done  29 tasks      | elapsed:   33.1s\n",
      "[Parallel(n_jobs=-1)]: Done  40 tasks      | elapsed:   35.3s\n",
      "[Parallel(n_jobs=-1)]: Done  53 tasks      | elapsed:   50.5s\n",
      "[Parallel(n_jobs=-1)]: Done  66 tasks      | elapsed:  1.1min\n",
      "[Parallel(n_jobs=-1)]: Done  80 out of 100 | elapsed:  1.3min remaining:   19.6s\n",
      "[Parallel(n_jobs=-1)]: Done  91 out of 100 | elapsed:  1.5min remaining:    8.6s\n",
      "[Parallel(n_jobs=-1)]: Done 100 out of 100 | elapsed:  1.5min finished\n"
     ]
    },
    {
     "name": "stdout",
     "output_type": "stream",
     "text": [
      "[3.49945706e-08 1.52156523e-03 8.30874962e-05 1.17621243e-05\n",
      " 4.57129033e-06 2.78976186e-06 2.09932000e-06 1.75857598e-06\n",
      " 1.56397843e-06 1.44161534e-06 4.41839699e-04 3.99053051e-02\n",
      " 2.24559753e-03 3.41344778e-04 1.37447741e-04 8.54744194e-05\n",
      " 6.50274577e-05 5.48472714e-05 4.90007560e-05 4.53105515e-05\n",
      " 1.94460191e+00 5.24237873e+00 3.87327743e-01 7.20571575e-02\n",
      " 3.19308502e-02 2.08701266e-02 1.63383722e-02 1.40281003e-02\n",
      " 1.26813106e-02 1.18226559e-02 3.23681432e+01 3.07891371e+01\n",
      " 2.99017817e+00 6.48467950e-01 3.08016985e-01 2.08595976e-01\n",
      " 1.66641438e-01 1.44885018e-01 1.32064882e-01 1.23832210e-01\n",
      " 2.07802331e+01 1.32229401e+01 1.57219874e+00 3.86145020e-01\n",
      " 1.94422321e-01 1.35706143e-01 1.10309822e-01 9.69495180e-02\n",
      " 8.90050382e-02 8.38721280e-02 2.26210374e+00 1.20264601e+00\n",
      " 1.68719362e-01 4.65140523e-02 2.47919052e-02 1.78343193e-02\n",
      " 1.47526755e-02 1.31087032e-02 1.21224183e-02 1.14813518e-02\n",
      " 9.67421257e-02 4.76819584e-02 7.80409285e-03 2.41286383e-03\n",
      " 1.36318072e-03 1.01168593e-03 8.52244129e-04 7.65976440e-04\n",
      " 7.13752286e-04 6.79600126e-04 2.69208626e-03 1.30789854e-03\n",
      " 2.49830169e-04 8.66071461e-05 5.18801127e-05 3.97311940e-05\n",
      " 3.40887634e-05 3.09928442e-05 2.91018271e-05 2.78576925e-05\n",
      " 6.58431800e-05 3.27777433e-05 7.32103077e-06 2.83798290e-06\n",
      " 1.79942784e-06 1.42053912e-06 1.24054961e-06 1.14046131e-06\n",
      " 1.07880178e-06 1.03799991e-06 1.67762719e-06 8.76510346e-07\n",
      " 2.28651141e-07 9.85752262e-08 6.59316979e-08 5.35475998e-08\n",
      " 4.75397904e-08 4.41572350e-08 4.20568435e-08 4.06595047e-08]\n",
      "[[-17.16807291  -7.72456341   0.66505728   3.4771747    3.0340022\n",
      "    0.81629524  -2.33570634  -5.91743882  -9.6282347  -13.29813015]\n",
      " [ -6.48801572  -3.221246     1.65677535   3.42716194   2.58195321\n",
      "    0.18452414  -3.04320218  -6.6393336  -10.32576083 -13.94731733]\n",
      " [ -9.39561633  -6.09878363  -0.94848406   1.09533297   0.45247511\n",
      "   -1.77951853  -4.85310696  -8.2947292  -11.82475942 -15.29106839]\n",
      " [-11.350626    -7.98261751  -2.63029562  -0.4331427   -0.95154228\n",
      "   -3.06800081  -6.02694092  -9.35412823 -12.772417   -16.13244586]\n",
      " [-12.29571504  -8.89226678  -3.44418264  -1.17760035  -1.63772257\n",
      "   -3.69723808  -6.59793454  -9.86657503 -13.22804181 -16.53464651]\n",
      " [-12.78955432  -9.36729341  -3.86943649  -1.56735603  -1.99726345\n",
      "   -4.02663063  -6.8961371  -10.13337394 -13.4644741  -16.74269486]\n",
      " [-13.07389707  -9.64070095  -4.11423881  -1.79191085  -2.20446231\n",
      "   -4.21633082  -7.06763754 -10.28654275 -13.59995604 -16.86169878]\n",
      " [-13.25100618  -9.81095812  -4.26669279  -1.93181483  -2.33356487\n",
      "   -4.3344789   -7.17435915 -10.38175421 -13.68407772 -16.93550905]\n",
      " [-13.36827771  -9.92367483  -4.36762598  -2.02446195  -2.4190623\n",
      "   -4.41269879  -7.24497459 -10.4447096  -13.73965959 -16.98424372]\n",
      " [-13.44974631 -10.00197063  -4.4377376   -2.08882777  -2.47846193\n",
      "   -4.46703114  -7.29400598 -10.48840142 -13.77821486 -17.01803321]]\n",
      "[[3.49945706e-08 4.41839699e-04 1.94460191e+00 3.23681432e+01\n",
      "  2.07802331e+01 2.26210374e+00 9.67421257e-02 2.69208626e-03\n",
      "  6.58431800e-05 1.67762719e-06]\n",
      " [1.52156523e-03 3.99053051e-02 5.24237873e+00 3.07891371e+01\n",
      "  1.32229401e+01 1.20264601e+00 4.76819584e-02 1.30789854e-03\n",
      "  3.27777433e-05 8.76510346e-07]\n",
      " [8.30874962e-05 2.24559753e-03 3.87327743e-01 2.99017817e+00\n",
      "  1.57219874e+00 1.68719362e-01 7.80409285e-03 2.49830169e-04\n",
      "  7.32103077e-06 2.28651141e-07]\n",
      " [1.17621243e-05 3.41344778e-04 7.20571575e-02 6.48467950e-01\n",
      "  3.86145020e-01 4.65140523e-02 2.41286383e-03 8.66071461e-05\n",
      "  2.83798290e-06 9.85752262e-08]\n",
      " [4.57129033e-06 1.37447741e-04 3.19308502e-02 3.08016985e-01\n",
      "  1.94422321e-01 2.47919052e-02 1.36318072e-03 5.18801127e-05\n",
      "  1.79942784e-06 6.59316979e-08]\n",
      " [2.78976186e-06 8.54744194e-05 2.08701266e-02 2.08595976e-01\n",
      "  1.35706143e-01 1.78343193e-02 1.01168593e-03 3.97311940e-05\n",
      "  1.42053912e-06 5.35475998e-08]\n",
      " [2.09932000e-06 6.50274577e-05 1.63383722e-02 1.66641438e-01\n",
      "  1.10309822e-01 1.47526755e-02 8.52244129e-04 3.40887634e-05\n",
      "  1.24054961e-06 4.75397904e-08]\n",
      " [1.75857598e-06 5.48472714e-05 1.40281003e-02 1.44885018e-01\n",
      "  9.69495180e-02 1.31087032e-02 7.65976440e-04 3.09928442e-05\n",
      "  1.14046131e-06 4.41572350e-08]\n",
      " [1.56397843e-06 4.90007560e-05 1.26813106e-02 1.32064882e-01\n",
      "  8.90050382e-02 1.21224183e-02 7.13752286e-04 2.91018271e-05\n",
      "  1.07880178e-06 4.20568435e-08]\n",
      " [1.44161534e-06 4.53105515e-05 1.18226559e-02 1.23832210e-01\n",
      "  8.38721280e-02 1.14813518e-02 6.79600126e-04 2.78576925e-05\n",
      "  1.03799991e-06 4.06595047e-08]]\n",
      "[-0.11111111  0.11111111  0.33333333  0.55555556  0.77777778  1.\n",
      "  1.22222222  1.44444444  1.66666667  1.88888889  2.11111111]\n",
      "[-0.01666667  0.01666667  0.05        0.08333333  0.11666667  0.15\n",
      "  0.18333333  0.21666667  0.25        0.28333333  0.31666667]\n",
      "figs\n"
     ]
    },
    {
     "data": {
      "image/png": "[encoded data removed]",
      "text/plain": [
       "<Figure size 432x288 with 2 Axes>"
      ]
     },
     "metadata": {
      "needs_background": "light"
     },
     "output_type": "display_data"
    }
   ],
   "source": [
    "# import matrixmaker as mm\n",
    "import simpledrift as sd\n",
    "import matrixmaker as mm\n",
    "\n",
    "\n",
    "import imp\n",
    "imp.reload(sd)\n",
    "imp.reload(mm)\n",
    "\n",
    "bhlower=0\n",
    "bhupper=2\n",
    "bhinterval=10\n",
    "driftlower=0\n",
    "driftupper=.3\n",
    "driftinterval=10\n",
    "\n",
    "matrix, driftvariance, prefvariance=mm.matrixmaker(bhlower, bhupper, bhinterval, driftlower, driftupper, driftinterval)\n",
    "# normalbirthhighdeath=matrix\n",
    "#mm.matrixmaker(driftlower, driftupper, bhlower, bhupper)"
   ]
  },
  {
   "cell_type": "code",
   "execution_count": null,
   "metadata": {
    "scrolled": true
   },
   "outputs": [],
   "source": [
    "# import matrixmaker as mm\n",
    "import simpledrift as sd\n",
    "import matrixmaker as mm\n",
    "\n",
    "\n",
    "import imp\n",
    "imp.reload(sd)\n",
    "imp.reload(mm)\n",
    "\n",
    "bhlower=0\n",
    "bhupper=1\n",
    "bhinterval=40\n",
    "driftlower=0\n",
    "driftupper=.3\n",
    "driftinterval=40\n",
    "\n",
    "matrix, driftvariance, prefvariance=mm.matrixmaker(bhlower, bhupper, bhinterval, driftlower, driftupper, driftinterval)\n",
    "\n",
    "#mm.matrixmaker(driftlower, driftupper, bhlower, bhupper)"
   ]
  },
  {
   "cell_type": "code",
   "execution_count": null,
   "metadata": {},
   "outputs": [],
   "source": [
    "np.savetxt(\"40x40.csv\", matrix, fmt='%.18e', delimiter=' ', newline='\\n', header='', footer='', comments='# ', encoding=None)"
   ]
  },
  {
   "cell_type": "code",
   "execution_count": null,
   "metadata": {},
   "outputs": [],
   "source": [
    "#highresmatrix=matrix\n",
    "# del highresmatrix\n",
    "#highdeathmatrix=matrix\n",
    "# normalmatrix=matrix\n",
    "#doubledeathdoublebirth=matrix"
   ]
  },
  {
   "cell_type": "code",
   "execution_count": null,
   "metadata": {},
   "outputs": [],
   "source": [
    "comparative=doublebirthnormaldeath/normalmatrix"
   ]
  },
  {
   "cell_type": "code",
   "execution_count": null,
   "metadata": {},
   "outputs": [],
   "source": [
    "# import math\n",
    "# bhlower=0\n",
    "# bhupper=1.5\n",
    "# bhinterval=10\n",
    "# driftlower=0\n",
    "# driftupper=8\n",
    "# driftinterval=20\n",
    "\n",
    "# numruns=bhinterval*driftinterval\n",
    "\n",
    "# # testing values are right\n",
    "# for n in range(numruns):\n",
    "#     print('driftvariance'+str(driftvariance[math.floor(n/bhinterval)])+ 'prefvariance'+ str(prefvariance[n%bhinterval]))\n",
    "\n",
    "\n",
    "# # matrix, driftvariance, prefvariance=mm.matrixmaker(bhlower, bhupper, bhinterval, driftlower, driftupper, driftinterval)\n",
    "\n",
    "# #mm.matrixmaker(driftlower, driftupper, bhlower, bhupper)"
   ]
  },
  {
   "cell_type": "code",
   "execution_count": null,
   "metadata": {},
   "outputs": [],
   "source": [
    "import numpy as np\n",
    "testn=np.arange(numruns)\n",
    "print(testn)\n",
    "testn.reshape((bhinterval, driftinterval))"
   ]
  },
  {
   "cell_type": "code",
   "execution_count": null,
   "metadata": {},
   "outputs": [],
   "source": [
    "dir()"
   ]
  },
  {
   "cell_type": "code",
   "execution_count": 1,
   "metadata": {},
   "outputs": [
    {
     "ename": "NameError",
     "evalue": "name 'doubledeathdoublebirth' is not defined",
     "output_type": "error",
     "traceback": [
      "\u001b[0;31m---------------------------------------------------------------------------\u001b[0m",
      "\u001b[0;31mNameError\u001b[0m                                 Traceback (most recent call last)",
      "\u001b[0;32m<ipython-input-1-d75ab2d5ced0>\u001b[0m in \u001b[0;36m<module>\u001b[0;34m\u001b[0m\n\u001b[1;32m      9\u001b[0m \u001b[0mdriftinterval\u001b[0m\u001b[0;34m=\u001b[0m\u001b[0;36m20\u001b[0m\u001b[0;34m\u001b[0m\u001b[0;34m\u001b[0m\u001b[0m\n\u001b[1;32m     10\u001b[0m \u001b[0;34m\u001b[0m\u001b[0m\n\u001b[0;32m---> 11\u001b[0;31m \u001b[0mcomparative\u001b[0m\u001b[0;34m=\u001b[0m\u001b[0mdoubledeathdoublebirth\u001b[0m\u001b[0;34m/\u001b[0m\u001b[0mhighbirthnormaldeath\u001b[0m\u001b[0;34m\u001b[0m\u001b[0;34m\u001b[0m\u001b[0m\n\u001b[0m\u001b[1;32m     12\u001b[0m \u001b[0mmatrixlog\u001b[0m\u001b[0;34m=\u001b[0m\u001b[0mnp\u001b[0m\u001b[0;34m.\u001b[0m\u001b[0mlog\u001b[0m\u001b[0;34m(\u001b[0m\u001b[0mcomparative\u001b[0m\u001b[0;34m)\u001b[0m\u001b[0;34m\u001b[0m\u001b[0;34m\u001b[0m\u001b[0m\n\u001b[1;32m     13\u001b[0m \u001b[0mbhmargin\u001b[0m\u001b[0;34m=\u001b[0m\u001b[0;34m(\u001b[0m\u001b[0mbhupper\u001b[0m\u001b[0;34m-\u001b[0m\u001b[0mbhlower\u001b[0m\u001b[0;34m)\u001b[0m\u001b[0;34m/\u001b[0m\u001b[0;34m(\u001b[0m\u001b[0mbhinterval\u001b[0m\u001b[0;34m-\u001b[0m\u001b[0;36m1\u001b[0m\u001b[0;34m)\u001b[0m\u001b[0;34m/\u001b[0m\u001b[0;36m2\u001b[0m\u001b[0;34m\u001b[0m\u001b[0;34m\u001b[0m\u001b[0m\n",
      "\u001b[0;31mNameError\u001b[0m: name 'doubledeathdoublebirth' is not defined"
     ]
    }
   ],
   "source": [
    "import numpy as np\n",
    "import matplotlib.pyplot as plt\n",
    "\n",
    "bhlower=0\n",
    "bhupper=.8\n",
    "bhinterval=20\n",
    "driftlower=0\n",
    "driftupper=.3\n",
    "driftinterval=20\n",
    "\n",
    "comparative=doubledeathdoublebirth/highbirthnormaldeath\n",
    "matrixlog=np.log(comparative)\n",
    "bhmargin=(bhupper-bhlower)/(bhinterval-1)/2\n",
    "driftmargin=(driftupper-driftlower)/(driftinterval-1)/2\n",
    "prefvariancemesh=np.linspace(bhlower-bhmargin, bhupper+bhmargin, bhinterval+1)\n",
    "driftvariancemesh=np.linspace(driftlower-driftmargin, driftupper+driftmargin, driftinterval+1)\n",
    "print(prefvariancemesh)\n",
    "print(driftvariancemesh)\n",
    "\n",
    "# driftvariancegrid2, prefvariancegrid2= np.meshgrid(driftvariance, prefvariance)\n",
    "\n",
    "# print(matrix)\n",
    "\n",
    "fig,ax=plt.subplots()\n",
    "print(max(-np.min(matrixlog),np.max(matrixlog)))\n",
    "scale=max(-np.min(matrixlog),np.max(matrixlog))/2\n",
    "c=ax.pcolormesh(driftvariancemesh, prefvariancemesh, matrixlog, shading='flat', cmap='RdBu')\n",
    "ax.set_xlabel('Drift')\n",
    "ax.set_ylabel('Bet-Hedging')\n",
    "fig.colorbar(c, ax=ax)\n",
    "ax.set_title('Ratio of high death high birth to high birth normal death final Populations (Log)')\n",
    "plt.show()"
   ]
  },
  {
   "cell_type": "code",
   "execution_count": null,
   "metadata": {},
   "outputs": [],
   "source": [
    "    bhmargin=(bhupper-bhlower)/(bhinterval-1)/2\n",
    "    driftmargin=(driftupper-driftlower)/(driftinterval-1)/2\n",
    "    prefvariancemesh=np.linspace(bhlower-bhmargin, bhupper+bhmargin, bhinterval+1)\n",
    "    driftvariancemesh=np.linspace(driftlower-driftmargin, driftupper+driftmargin, driftinterval+1)\n",
    "    print(prefvariancemesh)\n",
    "    print(driftvariancemesh)\n",
    "\n",
    "# driftvariancegrid2, prefvariancegrid2= np.meshgrid(driftvariance, prefvariance)\n",
    "\n",
    "    # print(matrix)\n",
    "\n",
    "    fig,ax=plt.subplots()\n",
    "\n",
    "    c=ax.pcolormesh(driftvariancemesh, prefvariancemesh, matrixlog, shading='flat', cmap='RdBu',  vmin=-20, vmax=20)\n",
    "    ax.set_xlabel('Drift')\n",
    "    ax.set_ylabel('Bet-Hedging')\n",
    "    fig.colorbar(c, ax=ax)\n",
    "    ax.set_title('Log of Final Population')\n",
    "    plt.show()"
   ]
  },
  {
   "cell_type": "code",
   "execution_count": null,
   "metadata": {},
   "outputs": [],
   "source": [
    "for i in range(400):\n",
    "    plt.plot()"
   ]
  },
  {
   "cell_type": "code",
   "execution_count": null,
   "metadata": {},
   "outputs": [],
   "source": [
    "from matplotlib.colors import LogNorm\n",
    "\n",
    "N = 3\n",
    "X, Y = np.meshgrid(np.linspace(-3, 3, N), np.linspace(-2, 2, N))\n",
    "\n",
    "# A low hump with a spike coming out.\n",
    "# Needs to have z/colour axis on a log scale so we see both hump and spike.\n",
    "# linear scale only shows the spike.\n",
    "Z1 = np.exp(-X**2 - Y**2)\n",
    "Z2 = np.exp(-(X * 10)**2 - (Y * 10)**2)\n",
    "Z = Z1 + 50 * Z2\n",
    "\n",
    "fig, (ax0, ax1) = plt.subplots(2, 1)\n",
    "\n",
    "c = ax0.pcolormesh(X, Y, Z,\n",
    "               norm=LogNorm(vmin=Z.min(), vmax=Z.max()), cmap='PuBu_r')\n",
    "fig.colorbar(c, ax=ax0)\n",
    "\n",
    "c = ax1.pcolor(X, Y, Z, cmap='PuBu_r')\n",
    "fig.colorbar(c, ax=ax1)\n",
    "\n",
    "plt.show()\n",
    "print(X)\n",
    "print(Y)\n",
    "print(Z)"
   ]
  },
  {
   "cell_type": "code",
   "execution_count": null,
   "metadata": {},
   "outputs": [],
   "source": [
    "import matplotlib.pyplot as plt\n",
    "plt.plot(matrix)"
   ]
  },
  {
   "cell_type": "code",
   "execution_count": null,
   "metadata": {
    "scrolled": false
   },
   "outputs": [],
   "source": [
    "import matrixmaker as mm\n",
    "import imp\n",
    "imp.reload(sd)\n",
    "imp.reload(mm)\n",
    "\n",
    "bhlower=0\n",
    "bhupper=3\n",
    "driftlower=0\n",
    "driftupper=0.5\n",
    "matrix=mm.matrixmaker(bhlower, bhupper, driftlower, driftupper)"
   ]
  },
  {
   "cell_type": "code",
   "execution_count": null,
   "metadata": {},
   "outputs": [],
   "source": [
    "import numpy as np\n",
    "import matplotlib.pyplot as plt\n",
    "\n",
    "simplematrix=np.random.rand(16,16)\n",
    "\n",
    "fig,ax=plt.subplots()\n",
    "c=ax.pcolor(simplematrix, cmap='hot')\n",
    "ax.set_xlabel('Bet Hedging')\n",
    "ax.set_ylabel('Drift')\n",
    "\n",
    "fig.colorbar(c)\n",
    "plt.show()\n"
   ]
  },
  {
   "cell_type": "code",
   "execution_count": null,
   "metadata": {},
   "outputs": [],
   "source": [
    ">>> from math import sqrt\n",
    ">>> from joblib import Parallel, delayed\n",
    ">>> x=Parallel(n_jobs=2)(delayed(sqrt)(i ** 2) for i in range(10))\n",
    "[0.0, 1.0, 2.0, 3.0, 4.0, 5.0, 6.0, 7.0, 8.0, 9.0]"
   ]
  },
  {
   "cell_type": "code",
   "execution_count": null,
   "metadata": {},
   "outputs": [],
   "source": [
    "x='helllo'"
   ]
  },
  {
   "cell_type": "code",
   "execution_count": null,
   "metadata": {},
   "outputs": [],
   "source": [
    "x"
   ]
  },
  {
   "cell_type": "code",
   "execution_count": null,
   "metadata": {},
   "outputs": [],
   "source": [
    "x=='hello'"
   ]
  },
  {
   "cell_type": "code",
   "execution_count": null,
   "metadata": {},
   "outputs": [],
   "source": [
    "x=='aasdf'"
   ]
  },
  {
   "cell_type": "code",
   "execution_count": null,
   "metadata": {},
   "outputs": [],
   "source": [
    "import numpy as np\n",
    "import math\n",
    "\n",
    "numcolumns=5\n",
    "numrows=2\n",
    "z=np.zeros(numcolumns*numrows)\n",
    "for n in range(numcolumns*numrows):\n",
    "    \n",
    "#     print('trial', n+1)\n",
    "#     print('row dependent value')\n",
    "#     print(math.floor(n/numcolumns))\n",
    "#     print('row dependent value')\n",
    "#     print(n%numcolumns)\n",
    "    z[n]=math.floor(n/numcolumns)*10+n%numcolumns\n",
    "    \n",
    "z.reshape((numrows,numcolumns))"
   ]
  },
  {
   "cell_type": "code",
   "execution_count": null,
   "metadata": {},
   "outputs": [],
   "source": [
    "import scipy.stats as sci\n",
    "import numpy as np\n",
    "#blur threshold testing\n",
    "halfnumbins=50\n",
    "numbins=halfnumbins*2\n",
    "x=np.linspace(-1,1,numbins)\n",
    "for j in range(10):\n",
    "    for i in range(100):\n",
    "        threshold=pow(10,-j)-i*pow(10, -j-2)\n",
    "#         print(threshold)\n",
    "        y=sci.norm.pdf(x,x[halfnumbins],threshold)\n",
    "        r,s=np.unique(y, return_counts=True)\n",
    "        if len(r)<3:\n",
    "            print(threshold)\n",
    "            break\n",
    "            break\n",
    "\n"
   ]
  },
  {
   "cell_type": "code",
   "execution_count": null,
   "metadata": {},
   "outputs": [],
   "source": [
    "10^(-5)"
   ]
  },
  {
   "cell_type": "code",
   "execution_count": null,
   "metadata": {},
   "outputs": [],
   "source": [
    "10^2"
   ]
  },
  {
   "cell_type": "code",
   "execution_count": null,
   "metadata": {},
   "outputs": [],
   "source": []
  }
 ],
 "metadata": {
  "kernelspec": {
   "display_name": "Python 3",
   "language": "python",
   "name": "python3"
  },
  "language_info": {
   "codemirror_mode": {
    "name": "ipython",
    "version": 3
   },
   "file_extension": ".py",
   "mimetype": "text/x-python",
   "name": "python",
   "nbconvert_exporter": "python",
   "pygments_lexer": "ipython3",
   "version": "3.7.4"
  }
 },
 "nbformat": 4,
 "nbformat_minor": 4
}
